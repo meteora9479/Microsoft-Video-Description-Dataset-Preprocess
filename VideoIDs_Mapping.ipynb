{
 "cells": [
  {
   "cell_type": "code",
   "execution_count": 2,
   "metadata": {
    "collapsed": false
   },
   "outputs": [
    {
     "name": "stdout",
     "output_type": "stream",
     "text": [
      "['-4wsuPCjDBc_5_15', 'vid1']\n",
      "['/Users/yusheng/Movies/YouTubeClips/-4wsuPCjDBc_5_15.avi', '-4wsuPCjDBc_5_15']\n",
      "Testing folder is done!\n"
     ]
    }
   ],
   "source": [
    "import os\n",
    "import shutil\n",
    "\n",
    "def createVideosList(path):\n",
    "    \n",
    "    #Create array of array of videos.\n",
    "    videosList = [];\n",
    "    \n",
    "    #List all files in the directory and read points from text files one by one\n",
    "    for filePath in os.listdir(path):\n",
    "        if filePath.endswith(\".avi\") or filePath.endswith(\".mp4\"):\n",
    "            fileName = os.path.splitext(filePath)[0]\n",
    "            # append video found.\n",
    "            videosList.append([os.path.join(path,filePath),fileName]);\n",
    "\n",
    "    return videosList;\n",
    "\n",
    "def createMappingList(filePath):\n",
    "    \n",
    "    mappingList = [];\n",
    "    \n",
    "    with open(filePath) as file :\n",
    "        for line in file :\n",
    "            videoName, videoID = line.split()\n",
    "            mappingList.append( [videoName, videoID] )\n",
    "    return mappingList\n",
    "\n",
    "def createValFolder(folderPath, mappingList, videosList):\n",
    "    valRange = range(1201,1301) #1201~1300\n",
    "    for i in valRange:    \n",
    "        for video in videosList:\n",
    "            if video[1] == mappingList[i-1][0]:\n",
    "                file_extension = os.path.splitext(video[0])[1]\n",
    "                shutil.copy2(video[0], os.path.join(folderPath,mappingList[i-1][1])+file_extension)\n",
    "             \n",
    "    print('Validation folder is done!')    \n",
    "    \n",
    "    \n",
    "def createTestFolder(folderPath, mappingList, videosList):\n",
    "    testRange = range(1301,1971) #1301~1970\n",
    "    for i in testRange:    \n",
    "        for video in videosList:\n",
    "            if video[1] == mappingList[i-1][0]:\n",
    "                file_extension = os.path.splitext(video[0])[1]\n",
    "                shutil.copy2(video[0], os.path.join(folderPath,mappingList[i-1][1])+file_extension)\n",
    "             \n",
    "    print('Testing folder is done!')     \n",
    "    \n",
    "    \n",
    "videosPath = '/Users/yusheng/Movies/YouTubeClips'\n",
    "videosList = []\n",
    "videosList = createVideosList(videosPath)\n",
    "\n",
    "filePath = './youtube_video_to_id_mapping.txt'\n",
    "mappingList = []\n",
    "mappingList = createMappingList(filePath)\n",
    "\n",
    "print(mappingList[0])\n",
    "print(videosList[0])\n",
    "\n",
    "\n",
    "valPath = '/Users/yusheng/Dropbox/my_research/MSVD/val'\n",
    "testPath = '/Users/yusheng/Dropbox/my_research/MSVD/test'\n",
    "#createValFolder(valPath, mappingList, videosList)\n",
    "createTestFolder(testPath, mappingList, videosList)"
   ]
  },
  {
   "cell_type": "code",
   "execution_count": null,
   "metadata": {
    "collapsed": true
   },
   "outputs": [],
   "source": []
  }
 ],
 "metadata": {
  "kernelspec": {
   "display_name": "Python 2",
   "language": "python",
   "name": "python2"
  },
  "language_info": {
   "codemirror_mode": {
    "name": "ipython",
    "version": 2
   },
   "file_extension": ".py",
   "mimetype": "text/x-python",
   "name": "python",
   "nbconvert_exporter": "python",
   "pygments_lexer": "ipython2",
   "version": "2.7.10"
  }
 },
 "nbformat": 4,
 "nbformat_minor": 0
}
